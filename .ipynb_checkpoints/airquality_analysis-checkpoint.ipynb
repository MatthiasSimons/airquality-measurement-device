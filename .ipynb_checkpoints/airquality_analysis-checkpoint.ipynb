{
 "cells": [
  {
   "cell_type": "markdown",
   "metadata": {},
   "source": [
    "https://towardsdatascience.com/time-series-pattern-recognition-with-air-quality-sensor-data-4b94710bb290"
   ]
  },
  {
   "cell_type": "markdown",
   "metadata": {},
   "source": [
    "# import libraries"
   ]
  },
  {
   "cell_type": "code",
   "execution_count": 3,
   "metadata": {},
   "outputs": [],
   "source": [
    "%matplotlib inline\n",
    "\n",
    "import boto3\n",
    "import numpy as np\n",
    "import matplotlib.pyplot as plt\n",
    "import matplotlib.dates as mdates\n",
    "import matplotlib.ticker as mticker\n",
    "import seaborn as sns\n",
    "import pandas as pd\n",
    "\n",
    "from sklearn import preprocessing"
   ]
  },
  {
   "cell_type": "markdown",
   "metadata": {},
   "source": [
    "# import data from AWS"
   ]
  },
  {
   "cell_type": "code",
   "execution_count": 32,
   "metadata": {},
   "outputs": [
    {
     "data": {
      "text/html": [
       "<div>\n",
       "<style scoped>\n",
       "    .dataframe tbody tr th:only-of-type {\n",
       "        vertical-align: middle;\n",
       "    }\n",
       "\n",
       "    .dataframe tbody tr th {\n",
       "        vertical-align: top;\n",
       "    }\n",
       "\n",
       "    .dataframe thead th {\n",
       "        text-align: right;\n",
       "    }\n",
       "</style>\n",
       "<table border=\"1\" class=\"dataframe\">\n",
       "  <thead>\n",
       "    <tr style=\"text-align: right;\">\n",
       "      <th></th>\n",
       "      <th>temperature</th>\n",
       "      <th>pressure</th>\n",
       "      <th>ppm</th>\n",
       "      <th>humidity</th>\n",
       "    </tr>\n",
       "    <tr>\n",
       "      <th>timestamp</th>\n",
       "      <th></th>\n",
       "      <th></th>\n",
       "      <th></th>\n",
       "      <th></th>\n",
       "    </tr>\n",
       "  </thead>\n",
       "  <tbody>\n",
       "    <tr>\n",
       "      <th>2021-05-12T00:21:45</th>\n",
       "      <td>26.03</td>\n",
       "      <td>989.69</td>\n",
       "      <td>126.827</td>\n",
       "      <td>35.41</td>\n",
       "    </tr>\n",
       "    <tr>\n",
       "      <th>2021-05-12T00:21:50</th>\n",
       "      <td>26.04</td>\n",
       "      <td>989.67</td>\n",
       "      <td>126.808</td>\n",
       "      <td>35.42</td>\n",
       "    </tr>\n",
       "    <tr>\n",
       "      <th>2021-05-12T00:21:55</th>\n",
       "      <td>26.05</td>\n",
       "      <td>989.67</td>\n",
       "      <td>126.803</td>\n",
       "      <td>35.41</td>\n",
       "    </tr>\n",
       "    <tr>\n",
       "      <th>2021-05-12T00:22:00</th>\n",
       "      <td>26.03</td>\n",
       "      <td>989.64</td>\n",
       "      <td>126.827</td>\n",
       "      <td>35.41</td>\n",
       "    </tr>\n",
       "    <tr>\n",
       "      <th>2021-05-12T00:22:05</th>\n",
       "      <td>26.05</td>\n",
       "      <td>989.67</td>\n",
       "      <td>126.810</td>\n",
       "      <td>35.40</td>\n",
       "    </tr>\n",
       "  </tbody>\n",
       "</table>\n",
       "</div>"
      ],
      "text/plain": [
       "                     temperature  pressure      ppm  humidity\n",
       "timestamp                                                    \n",
       "2021-05-12T00:21:45        26.03    989.69  126.827     35.41\n",
       "2021-05-12T00:21:50        26.04    989.67  126.808     35.42\n",
       "2021-05-12T00:21:55        26.05    989.67  126.803     35.41\n",
       "2021-05-12T00:22:00        26.03    989.64  126.827     35.41\n",
       "2021-05-12T00:22:05        26.05    989.67  126.810     35.40"
      ]
     },
     "execution_count": 32,
     "metadata": {},
     "output_type": "execute_result"
    }
   ],
   "source": [
    "client = boto3.client('iotanalytics')\n",
    "data = client.get_dataset_content(datasetName='airquality_dataset')\n",
    "df = pd.read_csv(data[\"entries\"][0][\"dataURI\"])\n",
    "df = df[df[\"timestamp\"] > \"2021-05-12T00:00:00\"]\n",
    "#df = df[df[\"timestamp\"] > \"2021-05-05T00:00:00\"] # filter datetime\n",
    "df.drop(\"__dt\", axis = 1, inplace = True)\n",
    "df.set_index(\"timestamp\", inplace = True)\n",
    "df.head()"
   ]
  },
  {
   "cell_type": "code",
   "execution_count": 92,
   "metadata": {},
   "outputs": [],
   "source": [
    "# roll over x minutes\n",
    "df_r = df.rolling(12*15)\n",
    "\n",
    "t = len(df)#12*60*24\n",
    "df_rm = df_r.mean()[:t]\n",
    "df_rs = df_r.std()[:t]\n",
    "df_rupper = df_rm + 1.96*df_rs\n",
    "df_rlower = df_rm - 1.96*df_rs\n",
    "\n",
    "df_rmax = df_r.max()[:t]\n",
    "df_rmin = df_r.min()[:t]"
   ]
  },
  {
   "cell_type": "code",
   "execution_count": 93,
   "metadata": {},
   "outputs": [
    {
     "data": {
      "image/png": "[encoded data removed]",
      "text/plain": [
       "<Figure size 432x288 with 1 Axes>"
      ]
     },
     "metadata": {
      "needs_background": "light"
     },
     "output_type": "display_data"
    }
   ],
   "source": [
    "fig, ax = plt.subplots()\n",
    "plt.fill_between(df_rm.index, df_rupper['ppm'], df_rlower['ppm'], color='g', alpha=0.2)\n",
    "values = ax.scatter(df_rm.index, 'ppm', data=df_rm)\n",
    "upper = ax.plot(df_rm.index, 'ppm', data=df_rupper, color=\"g\")\n",
    "lower = ax.plot(df_rm.index, 'ppm', data=df_rlower, color=\"g\")\n",
    "\n",
    "ax.plot(df_rm.index, 'ppm', data=df_rmax, color=\"r\")\n",
    "ax.plot(df_rm.index, 'ppm', data=df_rmin, color=\"r\")\n",
    "\n",
    "\n",
    "\n",
    "myFmt = mdates.DateFormatter('%d')\n",
    "ax.xaxis.set_major_formatter(myFmt)\n",
    "\n",
    "i = int(len(df_rm)/5)\n",
    "\n",
    "pos = np.arange(len(df_rm.index))\n",
    "ticks = plt.xticks(pos[::i], df_rm.index.values[::i], rotation=45)\n",
    "\n",
    "plt.show()"
   ]
  },
  {
   "cell_type": "code",
   "execution_count": null,
   "metadata": {},
   "outputs": [],
   "source": [
    "df = df[:200]\n",
    "df\n",
    "\n",
    "fig, ax = plt.subplots()\n",
    "ax.plot(df.index, 'temperature', data=df)\n",
    "\n",
    "ax.xaxis.set_major_locator(mdates.HourLocator(interval=1))\n",
    "ax.xaxis.set_minor_locator(mdates.MinuteLocator(interval=0))\n",
    "ax.xaxis.set_major_formatter(mdates.AutoDateFormatter(mdates.AutoDateLocator()))"
   ]
  },
  {
   "cell_type": "code",
   "execution_count": null,
   "metadata": {},
   "outputs": [],
   "source": [
    "ax = plt.gca()\n",
    "plt.plot(df.index, df[\"temperature\"])\n",
    "ax.set_xlabel(\"Date\")"
   ]
  },
  {
   "cell_type": "code",
   "execution_count": null,
   "metadata": {},
   "outputs": [],
   "source": [
    "plt.plot(df.index, df[\"ppm\"])"
   ]
  },
  {
   "cell_type": "code",
   "execution_count": null,
   "metadata": {},
   "outputs": [],
   "source": [
    "column_names_to_normalize = [\"ppm\", \"temperature\", \"pressure\", \"humidity\"]\n",
    "df_normalized = df\n",
    "x = df[column_names_to_normalize].values\n",
    "x_scaled = min_max_scaler.fit_transform(x)\n",
    "df_temp = pd.DataFrame(x_scaled, columns=column_names_to_normalize, index = df.index)\n",
    "df_normalized[column_names_to_normalize] = df_temp\n",
    "\n",
    "df.head()"
   ]
  },
  {
   "cell_type": "code",
   "execution_count": null,
   "metadata": {},
   "outputs": [],
   "source": [
    "df_r = df_normalized.rolling(360)\n",
    "\n",
    "df_rm = df_r.mean()\n",
    "df_rs = df_r.std()\n",
    "df_rmax = df_r.max()\n",
    "df_rmin = df_r.min()"
   ]
  },
  {
   "cell_type": "code",
   "execution_count": null,
   "metadata": {},
   "outputs": [],
   "source": [
    "df_normalized.plot.scatter(x=\"timestamp\",y = \"ppm\")\n",
    "df_rm[\"ppm\"].plot()\n",
    "(df_rm[\"ppm\"]+df_rs[\"ppm\"]).plot()\n",
    "(df_rm[\"ppm\"]-df_rs[\"ppm\"]).plot()\n"
   ]
  },
  {
   "cell_type": "markdown",
   "metadata": {},
   "source": [
    "# detect anomalies"
   ]
  },
  {
   "cell_type": "markdown",
   "metadata": {},
   "source": [
    "## point anomalie detection"
   ]
  },
  {
   "cell_type": "code",
   "execution_count": 197,
   "metadata": {},
   "outputs": [],
   "source": [
    "def is_outlier(data, rolling_median, thresh):\n",
    "    return abs(data - rolling_median) >= thresh"
   ]
  },
  {
   "cell_type": "code",
   "execution_count": 198,
   "metadata": {},
   "outputs": [],
   "source": [
    "# Label the outliers\n",
    "tresh = 0.17\n",
    "df_nrm = df.rolling(120, center=True).median()\n",
    "labels = is_outlier(df, df_nrm5, tresh).astype('int')"
   ]
  }
 ],
 "metadata": {
  "kernelspec": {
   "display_name": "Python 3",
   "language": "python",
   "name": "python3"
  }
 },
 "nbformat": 4,
 "nbformat_minor": 4
}
